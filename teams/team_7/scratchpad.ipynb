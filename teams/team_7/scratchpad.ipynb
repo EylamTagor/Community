{
 "cells": [
  {
   "cell_type": "code",
   "id": "initial_id",
   "metadata": {
    "collapsed": true,
    "ExecuteTime": {
     "end_time": "2024-11-20T19:18:07.724812Z",
     "start_time": "2024-11-20T19:18:07.722056Z"
    }
   },
   "source": "x = 4",
   "outputs": [],
   "execution_count": 1
  },
  {
   "metadata": {
    "ExecuteTime": {
     "end_time": "2024-11-22T17:30:44.227990Z",
     "start_time": "2024-11-22T17:30:44.223707Z"
    }
   },
   "cell_type": "code",
   "source": [
    "player = [4, 7, 3, 9, 2]  # Replace with your player's list\n",
    "partners = [  # Replace with your list of partners\n",
    "    [5, 6, 8, 3, 4],  # Partner 1\n",
    "    [1, 9, 2, 5, 8],  # Partner 2\n",
    "    [6, 4, 7, 8, 1],  # Partner 3\n",
    "    [3, 5, 6, 4, 7],  # Partner 4\n",
    "]\n",
    "\n",
    "# Create a list of all zipped player/partner combinations\n",
    "all_combinations = [[max(p, q) for p, q in zip(player, partner)] for partner in partners]\n",
    "\n",
    "print(all_combinations)\n"
   ],
   "id": "dde5f87dda00f13f",
   "outputs": [
    {
     "name": "stdout",
     "output_type": "stream",
     "text": [
      "[[5, 7, 8, 9, 4], [4, 9, 3, 9, 8], [6, 7, 7, 9, 2], [4, 7, 6, 9, 7]]\n"
     ]
    }
   ],
   "execution_count": 5
  },
  {
   "metadata": {
    "ExecuteTime": {
     "end_time": "2024-11-22T17:27:30.321373Z",
     "start_time": "2024-11-22T17:27:30.299512Z"
    }
   },
   "cell_type": "code",
   "source": [
    "import numpy as np\n",
    "import pandas as pd\n",
    "\n",
    "def calculate_penalty_matrix(players, tasks):\n",
    "    \"\"\"\n",
    "    Calculate the penalty matrix for given players and tasks.\n",
    "    \n",
    "    Args:\n",
    "    - players: A 2D list or array where each row represents a player's abilities.\n",
    "    - tasks: A 2D list or array where each row represents a task's requirements.\n",
    "    \n",
    "    Returns:\n",
    "    - A 2D numpy array containing the penalties for each player-task pair.\n",
    "    \"\"\"\n",
    "    players = np.array(players)\n",
    "    tasks = np.array(tasks)\n",
    "    penalty_matrix = []\n",
    "    \n",
    "    for player in players:\n",
    "        penalties = []\n",
    "        for task in tasks:\n",
    "            # Calculate energy expended as the sum of positive differences\n",
    "            penalty = np.sum(np.maximum(0, task - player))\n",
    "            penalties.append(penalty)\n",
    "        penalty_matrix.append(penalties)\n",
    "    \n",
    "    return np.array(penalty_matrix)\n",
    "\n",
    "# Example data\n",
    "players = [\n",
    "    [2, 8, 4, 7],\n",
    "    [5, 6, 3, 2]\n",
    "]\n",
    "\n",
    "tasks = [\n",
    "    [1, 10, 3, 7],\n",
    "    [4, 7, 2, 6]\n",
    "]\n",
    "\n",
    "# Calculate the penalty matrix\n",
    "penalty_matrix = calculate_penalty_matrix(players, tasks)\n",
    "\n",
    "# Convert to DataFrame for better readability (optional)\n",
    "penalty_df = pd.DataFrame(\n",
    "    penalty_matrix, \n",
    "    index=[f'Player {i+1}' for i in range(len(players))],\n",
    "    columns=[f'Task {j+1}' for j in range(len(tasks))]\n",
    ")\n",
    "\n",
    "print(penalty_df)\n"
   ],
   "id": "c09b200914c093c9",
   "outputs": [
    {
     "name": "stdout",
     "output_type": "stream",
     "text": [
      "          Task 1  Task 2\n",
      "Player 1       2       2\n",
      "Player 2       9       5\n"
     ]
    }
   ],
   "execution_count": 4
  },
  {
   "metadata": {
    "ExecuteTime": {
     "end_time": "2024-11-20T19:18:09.708861Z",
     "start_time": "2024-11-20T19:18:09.504105Z"
    }
   },
   "cell_type": "code",
   "source": [
    "import numpy as np\n",
    "from scipy.optimize import linear_sum_assignment\n",
    "\n",
    "def minimize_sum(matrix):\n",
    "    \"\"\"\n",
    "    Find the minimum sum by assigning each column a unique value from a row\n",
    "    such that no two values come from the same row or column.\n",
    "    \n",
    "    Args:\n",
    "    - matrix: A 2D numpy array (p x t) where p represents rows and t represents columns.\n",
    "    \n",
    "    Returns:\n",
    "    - total_sum: The minimum sum achieved.\n",
    "    - assignment: List of (row, column) assignments for the minimum sum.\n",
    "    \"\"\"\n",
    "    # Use the Hungarian algorithm\n",
    "    row_indices, col_indices = linear_sum_assignment(matrix)\n",
    "    \n",
    "    # Calculate the minimum sum\n",
    "    total_sum = matrix[row_indices, col_indices].sum()\n",
    "    \n",
    "    # Return the sum and the assignments\n",
    "    return total_sum, list(zip(row_indices, col_indices))\n",
    "\n",
    "# Example matrix (p x t)\n",
    "matrix = np.array([\n",
    "    [4, 1, 3],\n",
    "    [2, 0, 5],\n",
    "    [3, 2, 2]\n",
    "])\n",
    "\n",
    "# Find the minimum sum and assignment\n",
    "min_sum, assignments = minimize_sum(matrix)\n",
    "\n",
    "# Output the results\n",
    "print(\"Minimum Sum:\", min_sum)\n",
    "print(\"Assignments (row -> column):\", assignments)\n"
   ],
   "id": "cd713363994775f6",
   "outputs": [
    {
     "name": "stdout",
     "output_type": "stream",
     "text": [
      "Minimum Sum: 5\n",
      "Assignments (row -> column): [(np.int64(0), np.int64(1)), (np.int64(1), np.int64(0)), (np.int64(2), np.int64(2))]\n"
     ]
    }
   ],
   "execution_count": 3
  },
  {
   "metadata": {},
   "cell_type": "code",
   "outputs": [],
   "execution_count": null,
   "source": "",
   "id": "1a809eae19f59d9"
  }
 ],
 "metadata": {
  "kernelspec": {
   "display_name": "Python 3",
   "language": "python",
   "name": "python3"
  },
  "language_info": {
   "codemirror_mode": {
    "name": "ipython",
    "version": 2
   },
   "file_extension": ".py",
   "mimetype": "text/x-python",
   "name": "python",
   "nbconvert_exporter": "python",
   "pygments_lexer": "ipython2",
   "version": "2.7.6"
  }
 },
 "nbformat": 4,
 "nbformat_minor": 5
}
