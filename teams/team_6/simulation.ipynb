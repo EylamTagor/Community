{
 "cells": [
  {
   "cell_type": "code",
   "execution_count": null,
   "metadata": {},
   "outputs": [],
   "source": [
    "ability_team = \"4\"\n",
    "task_team = \"4\"\n",
    "abilities_difficulty = \"medium\"\n",
    "task_difficulty = \"medium\"\n",
    "num_abilities = \"5\"\n",
    "num_members = \"20\""
   ]
  },
  {
   "cell_type": "code",
   "execution_count": null,
   "metadata": {},
   "outputs": [],
   "source": [
    "import numpy as np\n",
    "import matplotlib.pyplot as plt\n",
    "import os"
   ]
  },
  {
   "cell_type": "code",
   "execution_count": null,
   "metadata": {},
   "outputs": [],
   "source": [
    "files = os.listdir(\"data\")\n",
    "files_names = [\n",
    "    file\n",
    "    for file in files\n",
    "    if file.startswith(\n",
    "        f\"{ability_team}_{abilities_difficulty}_{task_team}_{task_difficulty}_{num_abilities}_{num_members}_\"\n",
    "    )\n",
    "]\n",
    "resting_loss_scales = [\n",
    "    float(file.split(\"_\")[-2])\n",
    "    for file in files_names\n",
    "    for file in files\n",
    "    if file.startswith(\n",
    "        f\"{ability_team}_{abilities_difficulty}_{task_team}_{task_difficulty}_{num_abilities}_{num_members}_\"\n",
    "    )\n",
    "]\n",
    "\n",
    "print(resting_loss_scales)"
   ]
  },
  {
   "cell_type": "code",
   "execution_count": null,
   "metadata": {},
   "outputs": [],
   "source": [
    "data = []\n",
    "\n",
    "for file_name in files_names:\n",
    "    file_index = int(file_name.split(\"_\")[-3])\n",
    "    data.append(np.load(f\"data/{file_name}\", allow_pickle=True))\n",
    "\n",
    "data"
   ]
  },
  {
   "cell_type": "code",
   "execution_count": null,
   "metadata": {},
   "outputs": [],
   "source": [
    "for i in range(len(data)):\n",
    "    plt.plot(data[i], label=resting_loss_scales[i])\n",
    "plt.legend()\n",
    "plt.title(\n",
    "    f\"Team {ability_team} {abilities_difficulty} abilities & team {task_team} {task_difficulty} tasks\"\n",
    ")\n",
    "plt.xlabel(\"Turn\")\n",
    "plt.ylabel(\"Tasks completed\")\n",
    "plt.show()\n",
    "plt.savefig(\n",
    "    f\"{ability_team}_{abilities_difficulty}_{task_team}_{task_difficulty}_{num_abilities}_{num_members}_{len(data)}\"\n",
    ")\n",
    "print(f\"{ability_team}_{abilities_difficulty}_{task_team}_{task_difficulty}_{num_abilities}_{num_members}_{len(data)}\")"
   ]
  }
 ],
 "metadata": {
  "kernelspec": {
   "display_name": "Python 3",
   "language": "python",
   "name": "python3"
  },
  "language_info": {
   "codemirror_mode": {
    "name": "ipython",
    "version": 3
   },
   "file_extension": ".py",
   "mimetype": "text/x-python",
   "name": "python",
   "nbconvert_exporter": "python",
   "pygments_lexer": "ipython3",
   "version": "3.11.9"
  }
 },
 "nbformat": 4,
 "nbformat_minor": 2
}
